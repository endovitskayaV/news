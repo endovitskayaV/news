{
 "cells": [
  {
   "cell_type": "code",
   "execution_count": 3,
   "metadata": {
    "id": "yd1BP24w3ZTO",
    "pycharm": {
     "name": "#%%\n"
    }
   },
   "outputs": [],
   "source": [
    "import pandas as pd\n",
    "from sklearn.metrics import r2_score\n",
    "from sklearn.model_selection import train_test_split\n",
    "from sklearn.ensemble import RandomForestRegressor\n",
    "from sklearn.datasets import make_regression\n",
    "from settings import RAW_PATH\n",
    "from sklearn import preprocessing\n",
    "from sklearn.preprocessing import MultiLabelBinarizer\n",
    "from sklearn.preprocessing import LabelEncoder\n",
    "from sklearn.preprocessing import OneHotEncoder\n",
    "from sklearn.preprocessing import LabelBinarizer\n",
    "import numpy as np\n",
    "import matplotlib.pyplot as plt\n",
    "import category_encoders as ce\n",
    "from pandas import Series\n",
    "from pandas import DataFrame\n",
    "import ast\n",
    "from typing import Dict, List\n",
    "from sklearn.model_selection import GridSearchCV"
   ]
  },
  {
   "cell_type": "code",
   "execution_count": 4,
   "outputs": [
    {
     "data": {
      "text/plain": "                                                                                            title  \\\ndocument_id                                                                                         \n55c3984d9a79470f2c260465BKmAn_fHQruT38beqDIE_A  Развод на миллионы: как российские бизнесмены ...   \n5a8eb3149a7947e3e34bba2dbgzlzJ2GTQacZgtv4WEb1A  МОК дал, МОК взял: как атлеты лишались олимпий...   \n605321259a7947663a3b6ab2vgBnAMPBRIOYrUrK0JeEiQ  Гагаринская одиссея: как первый космонавт путе...   \n609d47119a794795c5f7617dh5z7vG_TQAu5Q7Nwp35LUw  «Человек комсомольского агрессивного типа». Че...   \n5afd8e7f9a794772862de199oXkM3UjQQRK7NZTlmVi63A  От Улюкаева до Сердюкова: кто из российских чи...   \n\n                                                      publish_date  \\\ndocument_id                                                          \n55c3984d9a79470f2c260465BKmAn_fHQruT38beqDIE_A 2017-08-07 13:00:27   \n5a8eb3149a7947e3e34bba2dbgzlzJ2GTQacZgtv4WEb1A 2018-02-22 14:28:30   \n605321259a7947663a3b6ab2vgBnAMPBRIOYrUrK0JeEiQ 2021-04-12 11:01:26   \n609d47119a794795c5f7617dh5z7vG_TQAu5Q7Nwp35LUw 2021-05-14 11:19:24   \n5afd8e7f9a794772862de199oXkM3UjQQRK7NZTlmVi63A 2021-05-17 14:40:01   \n\n                                                               session  \\\ndocument_id                                                              \n55c3984d9a79470f2c260465BKmAn_fHQruT38beqDIE_A  BKmAn_fHQruT38beqDIE_A   \n5a8eb3149a7947e3e34bba2dbgzlzJ2GTQacZgtv4WEb1A  bgzlzJ2GTQacZgtv4WEb1A   \n605321259a7947663a3b6ab2vgBnAMPBRIOYrUrK0JeEiQ  vgBnAMPBRIOYrUrK0JeEiQ   \n609d47119a794795c5f7617dh5z7vG_TQAu5Q7Nwp35LUw  h5z7vG_TQAu5Q7Nwp35LUw   \n5afd8e7f9a794772862de199oXkM3UjQQRK7NZTlmVi63A  oXkM3UjQQRK7NZTlmVi63A   \n\n                                                                                          authors  \\\ndocument_id                                                                                         \n55c3984d9a79470f2c260465BKmAn_fHQruT38beqDIE_A                       ['57c3fa919a7947e69071e942']   \n5a8eb3149a7947e3e34bba2dbgzlzJ2GTQacZgtv4WEb1A                       ['5829aef49a7947876bda9414']   \n605321259a7947663a3b6ab2vgBnAMPBRIOYrUrK0JeEiQ                       ['5f71b0719a794740b0ce312f']   \n609d47119a794795c5f7617dh5z7vG_TQAu5Q7Nwp35LUw  ['5f80446c9a794717f5424cdb','5f8435739a7947731...   \n5afd8e7f9a794772862de199oXkM3UjQQRK7NZTlmVi63A                       ['596360489a7947894da539d3']   \n\n                                                  ctr  \\\ndocument_id                                             \n55c3984d9a79470f2c260465BKmAn_fHQruT38beqDIE_A  1.422   \n5a8eb3149a7947e3e34bba2dbgzlzJ2GTQacZgtv4WEb1A  0.668   \n605321259a7947663a3b6ab2vgBnAMPBRIOYrUrK0JeEiQ  0.657   \n609d47119a794795c5f7617dh5z7vG_TQAu5Q7Nwp35LUw  5.675   \n5afd8e7f9a794772862de199oXkM3UjQQRK7NZTlmVi63A  0.670   \n\n                                                                category  \\\ndocument_id                                                                \n55c3984d9a79470f2c260465BKmAn_fHQruT38beqDIE_A  5433e5decbb20f277b20eca9   \n5a8eb3149a7947e3e34bba2dbgzlzJ2GTQacZgtv4WEb1A  5433e5decbb20f277b20eca9   \n605321259a7947663a3b6ab2vgBnAMPBRIOYrUrK0JeEiQ  5433e5decbb20f277b20eca9   \n609d47119a794795c5f7617dh5z7vG_TQAu5Q7Nwp35LUw  5409f11ce063da9c8b588a12   \n5afd8e7f9a794772862de199oXkM3UjQQRK7NZTlmVi63A  5409f11ce063da9c8b588a12   \n\n                                                                                             tags  \\\ndocument_id                                                                                         \n55c3984d9a79470f2c260465BKmAn_fHQruT38beqDIE_A  ['5409f144e063daa0f408ad26', '5409f3ade063daa0...   \n5a8eb3149a7947e3e34bba2dbgzlzJ2GTQacZgtv4WEb1A  ['5409f144e063daa0f408ad26', '544fc342cbb20f41...   \n605321259a7947663a3b6ab2vgBnAMPBRIOYrUrK0JeEiQ  ['5409f144e063daa0f408ad26', '54dc85719a794779...   \n609d47119a794795c5f7617dh5z7vG_TQAu5Q7Nwp35LUw  ['599ecfca9a79472da7fab0dd', '5409f15de063daa0...   \n5afd8e7f9a794772862de199oXkM3UjQQRK7NZTlmVi63A  ['5409f144e063daa0f408ad26', '5409f146e063daa0...   \n\n                                                views  depth  \\\ndocument_id                                                    \n55c3984d9a79470f2c260465BKmAn_fHQruT38beqDIE_A   6238  1.067   \n5a8eb3149a7947e3e34bba2dbgzlzJ2GTQacZgtv4WEb1A  14558  1.150   \n605321259a7947663a3b6ab2vgBnAMPBRIOYrUrK0JeEiQ  10160  1.160   \n609d47119a794795c5f7617dh5z7vG_TQAu5Q7Nwp35LUw  52682  1.088   \n5afd8e7f9a794772862de199oXkM3UjQQRK7NZTlmVi63A   4640  1.057   \n\n                                                full_reads_percent  \ndocument_id                                                         \n55c3984d9a79470f2c260465BKmAn_fHQruT38beqDIE_A              54.489  \n5a8eb3149a7947e3e34bba2dbgzlzJ2GTQacZgtv4WEb1A              38.295  \n605321259a7947663a3b6ab2vgBnAMPBRIOYrUrK0JeEiQ              43.770  \n609d47119a794795c5f7617dh5z7vG_TQAu5Q7Nwp35LUw              28.467  \n5afd8e7f9a794772862de199oXkM3UjQQRK7NZTlmVi63A              31.164  ",
      "text/html": "<div>\n<style scoped>\n    .dataframe tbody tr th:only-of-type {\n        vertical-align: middle;\n    }\n\n    .dataframe tbody tr th {\n        vertical-align: top;\n    }\n\n    .dataframe thead th {\n        text-align: right;\n    }\n</style>\n<table border=\"1\" class=\"dataframe\">\n  <thead>\n    <tr style=\"text-align: right;\">\n      <th></th>\n      <th>title</th>\n      <th>publish_date</th>\n      <th>session</th>\n      <th>authors</th>\n      <th>ctr</th>\n      <th>category</th>\n      <th>tags</th>\n      <th>views</th>\n      <th>depth</th>\n      <th>full_reads_percent</th>\n    </tr>\n    <tr>\n      <th>document_id</th>\n      <th></th>\n      <th></th>\n      <th></th>\n      <th></th>\n      <th></th>\n      <th></th>\n      <th></th>\n      <th></th>\n      <th></th>\n      <th></th>\n    </tr>\n  </thead>\n  <tbody>\n    <tr>\n      <th>55c3984d9a79470f2c260465BKmAn_fHQruT38beqDIE_A</th>\n      <td>Развод на миллионы: как российские бизнесмены ...</td>\n      <td>2017-08-07 13:00:27</td>\n      <td>BKmAn_fHQruT38beqDIE_A</td>\n      <td>['57c3fa919a7947e69071e942']</td>\n      <td>1.422</td>\n      <td>5433e5decbb20f277b20eca9</td>\n      <td>['5409f144e063daa0f408ad26', '5409f3ade063daa0...</td>\n      <td>6238</td>\n      <td>1.067</td>\n      <td>54.489</td>\n    </tr>\n    <tr>\n      <th>5a8eb3149a7947e3e34bba2dbgzlzJ2GTQacZgtv4WEb1A</th>\n      <td>МОК дал, МОК взял: как атлеты лишались олимпий...</td>\n      <td>2018-02-22 14:28:30</td>\n      <td>bgzlzJ2GTQacZgtv4WEb1A</td>\n      <td>['5829aef49a7947876bda9414']</td>\n      <td>0.668</td>\n      <td>5433e5decbb20f277b20eca9</td>\n      <td>['5409f144e063daa0f408ad26', '544fc342cbb20f41...</td>\n      <td>14558</td>\n      <td>1.150</td>\n      <td>38.295</td>\n    </tr>\n    <tr>\n      <th>605321259a7947663a3b6ab2vgBnAMPBRIOYrUrK0JeEiQ</th>\n      <td>Гагаринская одиссея: как первый космонавт путе...</td>\n      <td>2021-04-12 11:01:26</td>\n      <td>vgBnAMPBRIOYrUrK0JeEiQ</td>\n      <td>['5f71b0719a794740b0ce312f']</td>\n      <td>0.657</td>\n      <td>5433e5decbb20f277b20eca9</td>\n      <td>['5409f144e063daa0f408ad26', '54dc85719a794779...</td>\n      <td>10160</td>\n      <td>1.160</td>\n      <td>43.770</td>\n    </tr>\n    <tr>\n      <th>609d47119a794795c5f7617dh5z7vG_TQAu5Q7Nwp35LUw</th>\n      <td>«Человек комсомольского агрессивного типа». Че...</td>\n      <td>2021-05-14 11:19:24</td>\n      <td>h5z7vG_TQAu5Q7Nwp35LUw</td>\n      <td>['5f80446c9a794717f5424cdb','5f8435739a7947731...</td>\n      <td>5.675</td>\n      <td>5409f11ce063da9c8b588a12</td>\n      <td>['599ecfca9a79472da7fab0dd', '5409f15de063daa0...</td>\n      <td>52682</td>\n      <td>1.088</td>\n      <td>28.467</td>\n    </tr>\n    <tr>\n      <th>5afd8e7f9a794772862de199oXkM3UjQQRK7NZTlmVi63A</th>\n      <td>От Улюкаева до Сердюкова: кто из российских чи...</td>\n      <td>2021-05-17 14:40:01</td>\n      <td>oXkM3UjQQRK7NZTlmVi63A</td>\n      <td>['596360489a7947894da539d3']</td>\n      <td>0.670</td>\n      <td>5409f11ce063da9c8b588a12</td>\n      <td>['5409f144e063daa0f408ad26', '5409f146e063daa0...</td>\n      <td>4640</td>\n      <td>1.057</td>\n      <td>31.164</td>\n    </tr>\n  </tbody>\n</table>\n</div>"
     },
     "execution_count": 4,
     "metadata": {},
     "output_type": "execute_result"
    }
   ],
   "source": [
    "df = pd.read_csv(RAW_PATH / \"train.csv\", index_col= 0, parse_dates=['publish_date'])\n",
    "df.sort_values('publish_date', inplace=True)\n",
    "df.head()"
   ],
   "metadata": {
    "collapsed": false,
    "pycharm": {
     "name": "#%%\n"
    }
   }
  },
  {
   "cell_type": "code",
   "execution_count": null,
   "outputs": [],
   "source": [
    "plt.scatter(df[:, 'tags'], df[:, 'views'])\n",
    "plt.show()"
   ],
   "metadata": {
    "collapsed": false,
    "pycharm": {
     "name": "#%%\n"
    }
   }
  }
 ],
 "metadata": {
  "colab": {
   "name": "RBK_baseline.ipynb",
   "provenance": [],
   "toc_visible": true
  },
  "kernelspec": {
   "display_name": "Python 3 (ipykernel)",
   "language": "python",
   "name": "python3"
  },
  "language_info": {
   "codemirror_mode": {
    "name": "ipython",
    "version": 3
   },
   "file_extension": ".py",
   "mimetype": "text/x-python",
   "name": "python",
   "nbconvert_exporter": "python",
   "pygments_lexer": "ipython3",
   "version": "3.9.13"
  }
 },
 "nbformat": 4,
 "nbformat_minor": 1
}